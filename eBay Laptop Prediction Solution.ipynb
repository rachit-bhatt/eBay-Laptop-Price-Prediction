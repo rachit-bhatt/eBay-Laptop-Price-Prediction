{
 "cells": [
  {
   "cell_type": "code",
   "execution_count": 2,
   "id": "57702e01",
   "metadata": {},
   "outputs": [],
   "source": [
    "import pandas as pd"
   ]
  },
  {
   "cell_type": "code",
   "execution_count": 1,
   "id": "8ddf8f57",
   "metadata": {},
   "outputs": [
    {
     "ename": "KeyboardInterrupt",
     "evalue": "",
     "output_type": "error",
     "traceback": [
      "\u001b[1;31m---------------------------------------------------------------------------\u001b[0m",
      "\u001b[1;31mKeyboardInterrupt\u001b[0m                         Traceback (most recent call last)",
      "Cell \u001b[1;32mIn[1], line 101\u001b[0m\n\u001b[0;32m     97\u001b[0m     driver\u001b[38;5;241m.\u001b[39mclose()\n\u001b[0;32m     98\u001b[0m     driver\u001b[38;5;241m.\u001b[39mswitch_to\u001b[38;5;241m.\u001b[39mwindow(driver\u001b[38;5;241m.\u001b[39mwindow_handles[\u001b[38;5;241m0\u001b[39m])\n\u001b[1;32m--> 101\u001b[0m     \u001b[43mtime\u001b[49m\u001b[38;5;241;43m.\u001b[39;49m\u001b[43msleep\u001b[49m\u001b[43m(\u001b[49m\u001b[43mrandom\u001b[49m\u001b[38;5;241;43m.\u001b[39;49m\u001b[43muniform\u001b[49m\u001b[43m(\u001b[49m\u001b[38;5;241;43m1\u001b[39;49m\u001b[43m,\u001b[49m\u001b[43m \u001b[49m\u001b[38;5;241;43m3\u001b[39;49m\u001b[43m)\u001b[49m\u001b[43m)\u001b[49m\n\u001b[0;32m    102\u001b[0m \u001b[38;5;28;01mexcept\u001b[39;00m \u001b[38;5;167;01mException\u001b[39;00m \u001b[38;5;28;01mas\u001b[39;00m e:\n\u001b[0;32m    103\u001b[0m     \u001b[38;5;28mprint\u001b[39m(\u001b[38;5;124mf\u001b[39m\u001b[38;5;124m\"\u001b[39m\u001b[38;5;124mAn error occurred: \u001b[39m\u001b[38;5;132;01m{\u001b[39;00me\u001b[38;5;132;01m}\u001b[39;00m\u001b[38;5;124m\"\u001b[39m)\n",
      "\u001b[1;31mKeyboardInterrupt\u001b[0m: "
     ]
    }
   ],
   "source": [
    "from selenium import webdriver\n",
    "from selenium.webdriver.common.by import By\n",
    "from selenium.webdriver.chrome.service import Service\n",
    "from webdriver_manager.chrome import ChromeDriverManager\n",
    "import time\n",
    "import random\n",
    "from selenium.webdriver.common.keys import Keys  # Import the Keys module\n",
    "\n",
    "# Initialize Chrome driver\n",
    "service = Service(ChromeDriverManager().install())\n",
    "driver = webdriver.Chrome(service=service)\n",
    "\n",
    "df = []\n",
    "count=0\n",
    "\n",
    "\n",
    "\n",
    "pages = [\"https://www.ebay.com/b/Apple-Laptops/111422/bn_320025?_pgn={}\".format(page) for page in range(130, 210)]\n",
    "\n",
    "for page_url in pages:\n",
    "    driver.get(page_url)\n",
    "    \n",
    "\n",
    "\n",
    "\n",
    "\n",
    "\n",
    "    \n",
    "    elements = driver.find_elements(By.CLASS_NAME, 's-item__link')\n",
    "\n",
    "    for element in elements:\n",
    "        try:\n",
    "\n",
    "            href = element.get_attribute('href')\n",
    " \n",
    "            \n",
    "            driver.execute_script(\"window.open('', '_blank');\")\n",
    "            driver.switch_to.window(driver.window_handles[-1])\n",
    "            driver.get(href)  # Visit the individual listing page\n",
    "\n",
    "            title_element = driver.find_element(By.CLASS_NAME, 'x-item-title__mainTitle')\n",
    "            title = title_element.text\n",
    "\n",
    "            price_element = driver.find_element(By.CLASS_NAME, 'x-price-primary')\n",
    "            price = price_element.text\n",
    "\n",
    "            try:\n",
    "                ram_element = driver.find_element(By.CLASS_NAME, 'ux-labels-values--ramSize')\n",
    "                ram = ram_element.find_element(By.CLASS_NAME, 'ux-labels-values__values-content').text\n",
    "            except:\n",
    "                ram = 'N/A'\n",
    "\n",
    "            try:\n",
    "                brand_element = driver.find_element(By.CLASS_NAME, 'ux-labels-values--brand')\n",
    "                brand = brand_element.find_element(By.CLASS_NAME, 'ux-labels-values__values-content').text\n",
    "            except:\n",
    "                brand = 'N/A'\n",
    "                \n",
    "            try:\n",
    "                condtion_element = driver.find_element(By.CLASS_NAME, 'ux-labels-values--condition')\n",
    "                condition = condtion_element.find_element(By.CLASS_NAME, 'ux-labels-values__values-content').text\n",
    "            except:\n",
    "                condition = 'N/A'\n",
    "            try:\n",
    "                harddrive_element = driver.find_element(By.CLASS_NAME, 'ux-labels-values--hardDriveCapacity')\n",
    "                harddrive = harddrive_element.find_element(By.CLASS_NAME, 'ux-labels-values__values-content').text\n",
    "            except:\n",
    "                harddrive = 'N/A'\n",
    "            try:\n",
    "                ssd_element = driver.find_element(By.CLASS_NAME, 'ux-labels-values--ssdCapacity')\n",
    "                SSD = ssd_element.find_element(By.CLASS_NAME, 'ux-labels-values__values-content').text\n",
    "            except:\n",
    "                SSD = 'N/A'\n",
    "            try:\n",
    "                Snotes_element = driver.find_element(By.CLASS_NAME, 'ux-labels-values--sellerNotes')\n",
    "                notes = Snotes_element.find_element(By.CLASS_NAME, 'ux-labels-values__values-content').text\n",
    "            except:\n",
    "                notes = 'N/A'\n",
    "                \n",
    "            try:\n",
    "                rating_elements = driver.find_elements(By.CLASS_NAME, 'fdbk-detail-seller-rating__value')\n",
    "                ratings = [element.text for element in rating_elements]\n",
    "            except:\n",
    "                ratings='N/A'\n",
    "            \n",
    "            try:\n",
    "                review_elements = driver.find_elements(By.CLASS_NAME, 'fdbk-container__details__comment')\n",
    "                reviews = [element.text for element in review_elements]\n",
    "            except:\n",
    "                reviews='N/A'\n",
    "                \n",
    "                \n",
    "            \n",
    "            df.append({\"href\":href,\"Title\": title, \"Price\": price, \"RAM\": ram, \"Brand\": brand,\"Hdd\":harddrive,\"Condition\":condition,\"Seller notes\":notes,\"SSD\":SSD,\"Rating\":ratings,\"Reviews\":reviews})\n",
    "            \n",
    "            \n",
    "            driver.close()\n",
    "            driver.switch_to.window(driver.window_handles[0])\n",
    "            \n",
    "            \n",
    "            time.sleep(random.uniform(1, 3))\n",
    "        except Exception as e:\n",
    "            print(f\"An error occurred: {e}\")\n",
    "            count+=1\n",
    "\n",
    "driver.quit()\n",
    "\n",
    "\n",
    "print(df)\n"
   ]
  },
  {
   "cell_type": "code",
   "execution_count": 3,
   "id": "ad01da41",
   "metadata": {},
   "outputs": [],
   "source": [
    "dataset=pd.DataFrame(df)"
   ]
  },
  {
   "cell_type": "code",
   "execution_count": 4,
   "id": "12bb1e7b",
   "metadata": {},
   "outputs": [
    {
     "data": {
      "text/html": [
       "<div>\n",
       "<style scoped>\n",
       "    .dataframe tbody tr th:only-of-type {\n",
       "        vertical-align: middle;\n",
       "    }\n",
       "\n",
       "    .dataframe tbody tr th {\n",
       "        vertical-align: top;\n",
       "    }\n",
       "\n",
       "    .dataframe thead th {\n",
       "        text-align: right;\n",
       "    }\n",
       "</style>\n",
       "<table border=\"1\" class=\"dataframe\">\n",
       "  <thead>\n",
       "    <tr style=\"text-align: right;\">\n",
       "      <th></th>\n",
       "      <th>href</th>\n",
       "      <th>Title</th>\n",
       "      <th>Price</th>\n",
       "      <th>RAM</th>\n",
       "      <th>Brand</th>\n",
       "      <th>Hdd</th>\n",
       "      <th>Condition</th>\n",
       "      <th>Seller notes</th>\n",
       "      <th>SSD</th>\n",
       "      <th>Rating</th>\n",
       "      <th>Reviews</th>\n",
       "    </tr>\n",
       "  </thead>\n",
       "  <tbody>\n",
       "    <tr>\n",
       "      <th>0</th>\n",
       "      <td>https://www.ebay.com/itm/285811087946?itmmeta=...</td>\n",
       "      <td>MacBook Pro 13 Touch Bar Space Gray 2017 3.1 G...</td>\n",
       "      <td>US $359.99</td>\n",
       "      <td>16GB</td>\n",
       "      <td>Apple</td>\n",
       "      <td>N/A</td>\n",
       "      <td>Very Good - Refurbished</td>\n",
       "      <td>“Device is 100% fully functional and in Very G...</td>\n",
       "      <td>256GB</td>\n",
       "      <td>[4.9, 5.0, 5.0, 5.0]</td>\n",
       "      <td>[Very good seller, Very fast delivery, very go...</td>\n",
       "    </tr>\n",
       "    <tr>\n",
       "      <th>1</th>\n",
       "      <td>https://www.ebay.com/itm/115925667821?itmmeta=...</td>\n",
       "      <td>Apple MacBook Air 11\" Mid 2012 Dual-Core Intel...</td>\n",
       "      <td>US $179.00</td>\n",
       "      <td>4 GB</td>\n",
       "      <td>Apple</td>\n",
       "      <td>120 GB</td>\n",
       "      <td>Used: An item that has been used previously. T...</td>\n",
       "      <td>N/A</td>\n",
       "      <td>256 GB</td>\n",
       "      <td>[5.0, 5.0, 5.0, 5.0]</td>\n",
       "      <td>[Just as described.. quick shipping and great ...</td>\n",
       "    </tr>\n",
       "    <tr>\n",
       "      <th>2</th>\n",
       "      <td>https://www.ebay.com/itm/404884407899?itmmeta=...</td>\n",
       "      <td>2017 APPLE MACBOOK AIR 13 | 1.8GHz i5 | 8GB RA...</td>\n",
       "      <td>US $371.52</td>\n",
       "      <td>N/A</td>\n",
       "      <td>Apple</td>\n",
       "      <td>256 GB</td>\n",
       "      <td>Used</td>\n",
       "      <td>“3 YEAR WARRANTY - Industry leading technician...</td>\n",
       "      <td>256 GB</td>\n",
       "      <td>[4.9, 5.0, 5.0, 5.0]</td>\n",
       "      <td>[Man!!!!!! This MacBook was waaaaaayyyyyyy bet...</td>\n",
       "    </tr>\n",
       "    <tr>\n",
       "      <th>3</th>\n",
       "      <td>https://www.ebay.com/itm/326065660728?itmmeta=...</td>\n",
       "      <td>Apple MacBook Pro 16\" (1TB SSD M2 Pro 16GB) La...</td>\n",
       "      <td>US $2,200.00</td>\n",
       "      <td>16 GB</td>\n",
       "      <td>Apple</td>\n",
       "      <td>1 TB</td>\n",
       "      <td>Open box: An item in excellent, new condition ...</td>\n",
       "      <td>N/A</td>\n",
       "      <td>1 TB</td>\n",
       "      <td>[]</td>\n",
       "      <td>[one of the best sellers on ebaygood communica...</td>\n",
       "    </tr>\n",
       "    <tr>\n",
       "      <th>4</th>\n",
       "      <td>https://www.ebay.com/itm/165842851183?itmmeta=...</td>\n",
       "      <td>Macbook Pro 13”- 2.26GHZ CORE 2- 4GB-320GB-CAT...</td>\n",
       "      <td>C $219.99</td>\n",
       "      <td>4gb</td>\n",
       "      <td>Apple</td>\n",
       "      <td>80 GB</td>\n",
       "      <td>Used</td>\n",
       "      <td>“WORKS GREAT”</td>\n",
       "      <td>4 GB</td>\n",
       "      <td>[4.9, 4.8, 5.0, 5.0]</td>\n",
       "      <td>[Fantastic seller. Excellent communication and...</td>\n",
       "    </tr>\n",
       "  </tbody>\n",
       "</table>\n",
       "</div>"
      ],
      "text/plain": [
       "                                                href  \\\n",
       "0  https://www.ebay.com/itm/285811087946?itmmeta=...   \n",
       "1  https://www.ebay.com/itm/115925667821?itmmeta=...   \n",
       "2  https://www.ebay.com/itm/404884407899?itmmeta=...   \n",
       "3  https://www.ebay.com/itm/326065660728?itmmeta=...   \n",
       "4  https://www.ebay.com/itm/165842851183?itmmeta=...   \n",
       "\n",
       "                                               Title         Price    RAM  \\\n",
       "0  MacBook Pro 13 Touch Bar Space Gray 2017 3.1 G...    US $359.99   16GB   \n",
       "1  Apple MacBook Air 11\" Mid 2012 Dual-Core Intel...    US $179.00   4 GB   \n",
       "2  2017 APPLE MACBOOK AIR 13 | 1.8GHz i5 | 8GB RA...    US $371.52    N/A   \n",
       "3  Apple MacBook Pro 16\" (1TB SSD M2 Pro 16GB) La...  US $2,200.00  16 GB   \n",
       "4  Macbook Pro 13”- 2.26GHZ CORE 2- 4GB-320GB-CAT...     C $219.99    4gb   \n",
       "\n",
       "   Brand     Hdd                                          Condition  \\\n",
       "0  Apple     N/A                            Very Good - Refurbished   \n",
       "1  Apple  120 GB  Used: An item that has been used previously. T...   \n",
       "2  Apple  256 GB                                               Used   \n",
       "3  Apple    1 TB  Open box: An item in excellent, new condition ...   \n",
       "4  Apple   80 GB                                               Used   \n",
       "\n",
       "                                        Seller notes     SSD  \\\n",
       "0  “Device is 100% fully functional and in Very G...   256GB   \n",
       "1                                                N/A  256 GB   \n",
       "2  “3 YEAR WARRANTY - Industry leading technician...  256 GB   \n",
       "3                                                N/A    1 TB   \n",
       "4                                      “WORKS GREAT”    4 GB   \n",
       "\n",
       "                 Rating                                            Reviews  \n",
       "0  [4.9, 5.0, 5.0, 5.0]  [Very good seller, Very fast delivery, very go...  \n",
       "1  [5.0, 5.0, 5.0, 5.0]  [Just as described.. quick shipping and great ...  \n",
       "2  [4.9, 5.0, 5.0, 5.0]  [Man!!!!!! This MacBook was waaaaaayyyyyyy bet...  \n",
       "3                    []  [one of the best sellers on ebaygood communica...  \n",
       "4  [4.9, 4.8, 5.0, 5.0]  [Fantastic seller. Excellent communication and...  "
      ]
     },
     "execution_count": 4,
     "metadata": {},
     "output_type": "execute_result"
    }
   ],
   "source": [
    "dataset.head()"
   ]
  },
  {
   "cell_type": "code",
   "execution_count": 37,
   "id": "5848507b",
   "metadata": {},
   "outputs": [],
   "source": [
    "data1=pd.read_csv('ebayweb1.csv')\n",
    "data2=pd.read_csv('ebayweb2.csv')\n",
    "data3=pd.read_csv('ebayweb3.csv')"
   ]
  },
  {
   "cell_type": "code",
   "execution_count": 7,
   "id": "ac182fbe",
   "metadata": {},
   "outputs": [
    {
     "data": {
      "text/plain": [
       "(6031, 12)"
      ]
     },
     "execution_count": 7,
     "metadata": {},
     "output_type": "execute_result"
    }
   ],
   "source": [
    "data1.shape"
   ]
  },
  {
   "cell_type": "code",
   "execution_count": 9,
   "id": "f2a232a8",
   "metadata": {},
   "outputs": [
    {
     "data": {
      "text/plain": [
       "(9409, 12)"
      ]
     },
     "execution_count": 9,
     "metadata": {},
     "output_type": "execute_result"
    }
   ],
   "source": [
    "data2.shape"
   ]
  },
  {
   "cell_type": "code",
   "execution_count": 10,
   "id": "a3b8d115",
   "metadata": {},
   "outputs": [
    {
     "data": {
      "text/plain": [
       "(2228, 12)"
      ]
     },
     "execution_count": 10,
     "metadata": {},
     "output_type": "execute_result"
    }
   ],
   "source": [
    "data3.shape"
   ]
  },
  {
   "cell_type": "code",
   "execution_count": 14,
   "id": "af025684",
   "metadata": {},
   "outputs": [],
   "source": [
    "dataset1=pd.concat([data1,data2,data3])"
   ]
  },
  {
   "cell_type": "code",
   "execution_count": 15,
   "id": "c32a016e",
   "metadata": {},
   "outputs": [
    {
     "data": {
      "text/html": [
       "<div>\n",
       "<style scoped>\n",
       "    .dataframe tbody tr th:only-of-type {\n",
       "        vertical-align: middle;\n",
       "    }\n",
       "\n",
       "    .dataframe tbody tr th {\n",
       "        vertical-align: top;\n",
       "    }\n",
       "\n",
       "    .dataframe thead th {\n",
       "        text-align: right;\n",
       "    }\n",
       "</style>\n",
       "<table border=\"1\" class=\"dataframe\">\n",
       "  <thead>\n",
       "    <tr style=\"text-align: right;\">\n",
       "      <th></th>\n",
       "      <th>Unnamed: 0</th>\n",
       "      <th>href</th>\n",
       "      <th>Title</th>\n",
       "      <th>Price</th>\n",
       "      <th>RAM</th>\n",
       "      <th>Brand</th>\n",
       "      <th>Hdd</th>\n",
       "      <th>Condition</th>\n",
       "      <th>Seller notes</th>\n",
       "      <th>SSD</th>\n",
       "      <th>Rating</th>\n",
       "      <th>Reviews</th>\n",
       "    </tr>\n",
       "  </thead>\n",
       "  <tbody>\n",
       "    <tr>\n",
       "      <th>0</th>\n",
       "      <td>0</td>\n",
       "      <td>https://www.ebay.com/itm/166611579675?epid=132...</td>\n",
       "      <td>Apple Macbook Pro 13.3” 2.5GHz intel Core i5 1...</td>\n",
       "      <td>US $249.00</td>\n",
       "      <td>16 GB</td>\n",
       "      <td>Apple</td>\n",
       "      <td>1 TB</td>\n",
       "      <td>Used: An item that has been used previously. T...</td>\n",
       "      <td>NaN</td>\n",
       "      <td>1 TB</td>\n",
       "      <td>['4.8', '5.0', '5.0', '5.0']</td>\n",
       "      <td>['I received the MacBook Pro and it was almost...</td>\n",
       "    </tr>\n",
       "    <tr>\n",
       "      <th>1</th>\n",
       "      <td>1</td>\n",
       "      <td>https://www.ebay.com/itm/285754711451?itmmeta=...</td>\n",
       "      <td>Apple MacBook Pro 15\" A1286 2.3GHz Core i7 16G...</td>\n",
       "      <td>US $219.00</td>\n",
       "      <td>16 GB</td>\n",
       "      <td>Apple</td>\n",
       "      <td>NaN</td>\n",
       "      <td>Used: An item that has been used previously. T...</td>\n",
       "      <td>NaN</td>\n",
       "      <td>240GB</td>\n",
       "      <td>['4.9', '5.0', '5.0', '5.0']</td>\n",
       "      <td>['Muy buena computadora. En excelentes condici...</td>\n",
       "    </tr>\n",
       "    <tr>\n",
       "      <th>2</th>\n",
       "      <td>2</td>\n",
       "      <td>https://www.ebay.com/itm/334577965892?itmmeta=...</td>\n",
       "      <td>Apple Macbook Air 13 (2015) | i5 8GB + 512GB S...</td>\n",
       "      <td>US $246.05/ea</td>\n",
       "      <td>8 GB</td>\n",
       "      <td>Apple</td>\n",
       "      <td>NaN</td>\n",
       "      <td>Used</td>\n",
       "      <td>“2 YEAR WARRANTY INCLUDED!!! LAPTOP ARE FULLY ...</td>\n",
       "      <td>128-512 GB</td>\n",
       "      <td>['4.8', '5.0', '4.9', '5.0']</td>\n",
       "      <td>['Opened it as soooon as the mail man brought ...</td>\n",
       "    </tr>\n",
       "    <tr>\n",
       "      <th>3</th>\n",
       "      <td>3</td>\n",
       "      <td>https://www.ebay.com/itm/235462992167?itmmeta=...</td>\n",
       "      <td>SONOMA MacBook Pro 15 RETINA / 4.0GHz QUAD COR...</td>\n",
       "      <td>US $665.00/ea</td>\n",
       "      <td>NaN</td>\n",
       "      <td>Apple</td>\n",
       "      <td>2 TB</td>\n",
       "      <td>Used</td>\n",
       "      <td>“Fully tested and verified! Good condition ove...</td>\n",
       "      <td>2 TB</td>\n",
       "      <td>['4.9', '5.0', '5.0', '5.0']</td>\n",
       "      <td>['Everything as promised. Fast shipping. Using...</td>\n",
       "    </tr>\n",
       "    <tr>\n",
       "      <th>4</th>\n",
       "      <td>4</td>\n",
       "      <td>https://www.ebay.com/p/20029930090?iid=2260712...</td>\n",
       "      <td>Apple MacBook Pro 13\" (128GB SSD, Intel Core i...</td>\n",
       "      <td>US $36.00</td>\n",
       "      <td>NaN</td>\n",
       "      <td>Apple</td>\n",
       "      <td>NaN</td>\n",
       "      <td>NaN</td>\n",
       "      <td>NaN</td>\n",
       "      <td>NaN</td>\n",
       "      <td>[]</td>\n",
       "      <td>[]</td>\n",
       "    </tr>\n",
       "  </tbody>\n",
       "</table>\n",
       "</div>"
      ],
      "text/plain": [
       "   Unnamed: 0                                               href  \\\n",
       "0           0  https://www.ebay.com/itm/166611579675?epid=132...   \n",
       "1           1  https://www.ebay.com/itm/285754711451?itmmeta=...   \n",
       "2           2  https://www.ebay.com/itm/334577965892?itmmeta=...   \n",
       "3           3  https://www.ebay.com/itm/235462992167?itmmeta=...   \n",
       "4           4  https://www.ebay.com/p/20029930090?iid=2260712...   \n",
       "\n",
       "                                               Title          Price    RAM  \\\n",
       "0  Apple Macbook Pro 13.3” 2.5GHz intel Core i5 1...     US $249.00  16 GB   \n",
       "1  Apple MacBook Pro 15\" A1286 2.3GHz Core i7 16G...     US $219.00  16 GB   \n",
       "2  Apple Macbook Air 13 (2015) | i5 8GB + 512GB S...  US $246.05/ea   8 GB   \n",
       "3  SONOMA MacBook Pro 15 RETINA / 4.0GHz QUAD COR...  US $665.00/ea    NaN   \n",
       "4  Apple MacBook Pro 13\" (128GB SSD, Intel Core i...      US $36.00    NaN   \n",
       "\n",
       "   Brand   Hdd                                          Condition  \\\n",
       "0  Apple  1 TB  Used: An item that has been used previously. T...   \n",
       "1  Apple   NaN  Used: An item that has been used previously. T...   \n",
       "2  Apple   NaN                                               Used   \n",
       "3  Apple  2 TB                                               Used   \n",
       "4  Apple   NaN                                                NaN   \n",
       "\n",
       "                                        Seller notes         SSD  \\\n",
       "0                                                NaN        1 TB   \n",
       "1                                                NaN       240GB   \n",
       "2  “2 YEAR WARRANTY INCLUDED!!! LAPTOP ARE FULLY ...  128-512 GB   \n",
       "3  “Fully tested and verified! Good condition ove...        2 TB   \n",
       "4                                                NaN         NaN   \n",
       "\n",
       "                         Rating  \\\n",
       "0  ['4.8', '5.0', '5.0', '5.0']   \n",
       "1  ['4.9', '5.0', '5.0', '5.0']   \n",
       "2  ['4.8', '5.0', '4.9', '5.0']   \n",
       "3  ['4.9', '5.0', '5.0', '5.0']   \n",
       "4                            []   \n",
       "\n",
       "                                             Reviews  \n",
       "0  ['I received the MacBook Pro and it was almost...  \n",
       "1  ['Muy buena computadora. En excelentes condici...  \n",
       "2  ['Opened it as soooon as the mail man brought ...  \n",
       "3  ['Everything as promised. Fast shipping. Using...  \n",
       "4                                                 []  "
      ]
     },
     "execution_count": 15,
     "metadata": {},
     "output_type": "execute_result"
    }
   ],
   "source": [
    "dataset1.head()"
   ]
  },
  {
   "cell_type": "code",
   "execution_count": 16,
   "id": "bb4cc56b",
   "metadata": {},
   "outputs": [
    {
     "data": {
      "text/plain": [
       "(17668, 12)"
      ]
     },
     "execution_count": 16,
     "metadata": {},
     "output_type": "execute_result"
    }
   ],
   "source": [
    "dataset1.shape"
   ]
  },
  {
   "cell_type": "code",
   "execution_count": 17,
   "id": "1bf8d494",
   "metadata": {},
   "outputs": [
    {
     "data": {
      "text/plain": [
       "(6031, 12)"
      ]
     },
     "execution_count": 17,
     "metadata": {},
     "output_type": "execute_result"
    }
   ],
   "source": [
    "data1.shape"
   ]
  },
  {
   "cell_type": "code",
   "execution_count": 18,
   "id": "7e2db637",
   "metadata": {},
   "outputs": [
    {
     "data": {
      "text/html": [
       "<div>\n",
       "<style scoped>\n",
       "    .dataframe tbody tr th:only-of-type {\n",
       "        vertical-align: middle;\n",
       "    }\n",
       "\n",
       "    .dataframe tbody tr th {\n",
       "        vertical-align: top;\n",
       "    }\n",
       "\n",
       "    .dataframe thead th {\n",
       "        text-align: right;\n",
       "    }\n",
       "</style>\n",
       "<table border=\"1\" class=\"dataframe\">\n",
       "  <thead>\n",
       "    <tr style=\"text-align: right;\">\n",
       "      <th></th>\n",
       "      <th>Unnamed: 0</th>\n",
       "      <th>href</th>\n",
       "      <th>Title</th>\n",
       "      <th>Price</th>\n",
       "      <th>RAM</th>\n",
       "      <th>Brand</th>\n",
       "      <th>Hdd</th>\n",
       "      <th>Condition</th>\n",
       "      <th>Seller notes</th>\n",
       "      <th>SSD</th>\n",
       "      <th>Rating</th>\n",
       "      <th>Reviews</th>\n",
       "    </tr>\n",
       "  </thead>\n",
       "  <tbody>\n",
       "    <tr>\n",
       "      <th>0</th>\n",
       "      <td>0</td>\n",
       "      <td>https://www.ebay.com/itm/166611579675?epid=132...</td>\n",
       "      <td>Apple Macbook Pro 13.3” 2.5GHz intel Core i5 1...</td>\n",
       "      <td>US $249.00</td>\n",
       "      <td>16 GB</td>\n",
       "      <td>Apple</td>\n",
       "      <td>1 TB</td>\n",
       "      <td>Used: An item that has been used previously. T...</td>\n",
       "      <td>NaN</td>\n",
       "      <td>1 TB</td>\n",
       "      <td>['4.8', '5.0', '5.0', '5.0']</td>\n",
       "      <td>['I received the MacBook Pro and it was almost...</td>\n",
       "    </tr>\n",
       "    <tr>\n",
       "      <th>1</th>\n",
       "      <td>1</td>\n",
       "      <td>https://www.ebay.com/itm/285754711451?itmmeta=...</td>\n",
       "      <td>Apple MacBook Pro 15\" A1286 2.3GHz Core i7 16G...</td>\n",
       "      <td>US $219.00</td>\n",
       "      <td>16 GB</td>\n",
       "      <td>Apple</td>\n",
       "      <td>NaN</td>\n",
       "      <td>Used: An item that has been used previously. T...</td>\n",
       "      <td>NaN</td>\n",
       "      <td>240GB</td>\n",
       "      <td>['4.9', '5.0', '5.0', '5.0']</td>\n",
       "      <td>['Muy buena computadora. En excelentes condici...</td>\n",
       "    </tr>\n",
       "    <tr>\n",
       "      <th>2</th>\n",
       "      <td>2</td>\n",
       "      <td>https://www.ebay.com/itm/334577965892?itmmeta=...</td>\n",
       "      <td>Apple Macbook Air 13 (2015) | i5 8GB + 512GB S...</td>\n",
       "      <td>US $246.05/ea</td>\n",
       "      <td>8 GB</td>\n",
       "      <td>Apple</td>\n",
       "      <td>NaN</td>\n",
       "      <td>Used</td>\n",
       "      <td>“2 YEAR WARRANTY INCLUDED!!! LAPTOP ARE FULLY ...</td>\n",
       "      <td>128-512 GB</td>\n",
       "      <td>['4.8', '5.0', '4.9', '5.0']</td>\n",
       "      <td>['Opened it as soooon as the mail man brought ...</td>\n",
       "    </tr>\n",
       "    <tr>\n",
       "      <th>3</th>\n",
       "      <td>3</td>\n",
       "      <td>https://www.ebay.com/itm/235462992167?itmmeta=...</td>\n",
       "      <td>SONOMA MacBook Pro 15 RETINA / 4.0GHz QUAD COR...</td>\n",
       "      <td>US $665.00/ea</td>\n",
       "      <td>NaN</td>\n",
       "      <td>Apple</td>\n",
       "      <td>2 TB</td>\n",
       "      <td>Used</td>\n",
       "      <td>“Fully tested and verified! Good condition ove...</td>\n",
       "      <td>2 TB</td>\n",
       "      <td>['4.9', '5.0', '5.0', '5.0']</td>\n",
       "      <td>['Everything as promised. Fast shipping. Using...</td>\n",
       "    </tr>\n",
       "    <tr>\n",
       "      <th>4</th>\n",
       "      <td>4</td>\n",
       "      <td>https://www.ebay.com/p/20029930090?iid=2260712...</td>\n",
       "      <td>Apple MacBook Pro 13\" (128GB SSD, Intel Core i...</td>\n",
       "      <td>US $36.00</td>\n",
       "      <td>NaN</td>\n",
       "      <td>Apple</td>\n",
       "      <td>NaN</td>\n",
       "      <td>NaN</td>\n",
       "      <td>NaN</td>\n",
       "      <td>NaN</td>\n",
       "      <td>[]</td>\n",
       "      <td>[]</td>\n",
       "    </tr>\n",
       "  </tbody>\n",
       "</table>\n",
       "</div>"
      ],
      "text/plain": [
       "   Unnamed: 0                                               href  \\\n",
       "0           0  https://www.ebay.com/itm/166611579675?epid=132...   \n",
       "1           1  https://www.ebay.com/itm/285754711451?itmmeta=...   \n",
       "2           2  https://www.ebay.com/itm/334577965892?itmmeta=...   \n",
       "3           3  https://www.ebay.com/itm/235462992167?itmmeta=...   \n",
       "4           4  https://www.ebay.com/p/20029930090?iid=2260712...   \n",
       "\n",
       "                                               Title          Price    RAM  \\\n",
       "0  Apple Macbook Pro 13.3” 2.5GHz intel Core i5 1...     US $249.00  16 GB   \n",
       "1  Apple MacBook Pro 15\" A1286 2.3GHz Core i7 16G...     US $219.00  16 GB   \n",
       "2  Apple Macbook Air 13 (2015) | i5 8GB + 512GB S...  US $246.05/ea   8 GB   \n",
       "3  SONOMA MacBook Pro 15 RETINA / 4.0GHz QUAD COR...  US $665.00/ea    NaN   \n",
       "4  Apple MacBook Pro 13\" (128GB SSD, Intel Core i...      US $36.00    NaN   \n",
       "\n",
       "   Brand   Hdd                                          Condition  \\\n",
       "0  Apple  1 TB  Used: An item that has been used previously. T...   \n",
       "1  Apple   NaN  Used: An item that has been used previously. T...   \n",
       "2  Apple   NaN                                               Used   \n",
       "3  Apple  2 TB                                               Used   \n",
       "4  Apple   NaN                                                NaN   \n",
       "\n",
       "                                        Seller notes         SSD  \\\n",
       "0                                                NaN        1 TB   \n",
       "1                                                NaN       240GB   \n",
       "2  “2 YEAR WARRANTY INCLUDED!!! LAPTOP ARE FULLY ...  128-512 GB   \n",
       "3  “Fully tested and verified! Good condition ove...        2 TB   \n",
       "4                                                NaN         NaN   \n",
       "\n",
       "                         Rating  \\\n",
       "0  ['4.8', '5.0', '5.0', '5.0']   \n",
       "1  ['4.9', '5.0', '5.0', '5.0']   \n",
       "2  ['4.8', '5.0', '4.9', '5.0']   \n",
       "3  ['4.9', '5.0', '5.0', '5.0']   \n",
       "4                            []   \n",
       "\n",
       "                                             Reviews  \n",
       "0  ['I received the MacBook Pro and it was almost...  \n",
       "1  ['Muy buena computadora. En excelentes condici...  \n",
       "2  ['Opened it as soooon as the mail man brought ...  \n",
       "3  ['Everything as promised. Fast shipping. Using...  \n",
       "4                                                 []  "
      ]
     },
     "execution_count": 18,
     "metadata": {},
     "output_type": "execute_result"
    }
   ],
   "source": [
    "data1.head()"
   ]
  },
  {
   "cell_type": "code",
   "execution_count": 19,
   "id": "049e9dee",
   "metadata": {},
   "outputs": [
    {
     "data": {
      "text/html": [
       "<div>\n",
       "<style scoped>\n",
       "    .dataframe tbody tr th:only-of-type {\n",
       "        vertical-align: middle;\n",
       "    }\n",
       "\n",
       "    .dataframe tbody tr th {\n",
       "        vertical-align: top;\n",
       "    }\n",
       "\n",
       "    .dataframe thead th {\n",
       "        text-align: right;\n",
       "    }\n",
       "</style>\n",
       "<table border=\"1\" class=\"dataframe\">\n",
       "  <thead>\n",
       "    <tr style=\"text-align: right;\">\n",
       "      <th></th>\n",
       "      <th>Unnamed: 0</th>\n",
       "      <th>href</th>\n",
       "      <th>Title</th>\n",
       "      <th>Price</th>\n",
       "      <th>RAM</th>\n",
       "      <th>Brand</th>\n",
       "      <th>Hdd</th>\n",
       "      <th>Condition</th>\n",
       "      <th>Seller notes</th>\n",
       "      <th>SSD</th>\n",
       "      <th>Rating</th>\n",
       "      <th>Reviews</th>\n",
       "    </tr>\n",
       "  </thead>\n",
       "  <tbody>\n",
       "    <tr>\n",
       "      <th>0</th>\n",
       "      <td>0</td>\n",
       "      <td>https://www.ebay.com/itm/335204367465?itmmeta=...</td>\n",
       "      <td>Dell Latitude Light Gaming Laptop PC Intel Cor...</td>\n",
       "      <td>US $618.00</td>\n",
       "      <td>NaN</td>\n",
       "      <td>Dell</td>\n",
       "      <td>2 TB</td>\n",
       "      <td>Very Good - Refurbished</td>\n",
       "      <td>“AAA PCs is a Microsoft Authorized Refurbisher...</td>\n",
       "      <td>NaN</td>\n",
       "      <td>['4.9', '5.0', '4.9', '5.0']</td>\n",
       "      <td>['Works fine, and very clean. Very fast delive...</td>\n",
       "    </tr>\n",
       "    <tr>\n",
       "      <th>1</th>\n",
       "      <td>1</td>\n",
       "      <td>https://www.ebay.com/itm/334703417715?itmmeta=...</td>\n",
       "      <td>Dell Latitude 15.6\" Laptop Intel Core i5 64GB ...</td>\n",
       "      <td>US $496.00</td>\n",
       "      <td>NaN</td>\n",
       "      <td>Dell</td>\n",
       "      <td>2 TB</td>\n",
       "      <td>Very Good - Refurbished</td>\n",
       "      <td>“AAA PCs is a Microsoft Authorized Refurbisher...</td>\n",
       "      <td>NaN</td>\n",
       "      <td>['4.9', '5.0', '4.9', '5.0']</td>\n",
       "      <td>['Dell Latitude 15.6\" Laptop Intel Core i5 64G...</td>\n",
       "    </tr>\n",
       "    <tr>\n",
       "      <th>2</th>\n",
       "      <td>2</td>\n",
       "      <td>https://www.ebay.com/itm/334846153118?itmmeta=...</td>\n",
       "      <td>Dell Latitude 14\" Gaming Laptop PC Intel Core ...</td>\n",
       "      <td>US $667.00</td>\n",
       "      <td>NaN</td>\n",
       "      <td>Dell</td>\n",
       "      <td>2 TB</td>\n",
       "      <td>Very Good - Refurbished</td>\n",
       "      <td>“AAA PCs is a Microsoft Authorized Refurbisher...</td>\n",
       "      <td>NaN</td>\n",
       "      <td>['4.9', '5.0', '4.9', '5.0']</td>\n",
       "      <td>['Laptop came in excellent condition, it was c...</td>\n",
       "    </tr>\n",
       "    <tr>\n",
       "      <th>3</th>\n",
       "      <td>3</td>\n",
       "      <td>https://www.ebay.com/itm/166294430110?itmmeta=...</td>\n",
       "      <td>CHUWI 14.1in Lapbook Pro Intel N4100 Laptop Co...</td>\n",
       "      <td>US $152.99</td>\n",
       "      <td>8 GB</td>\n",
       "      <td>Chuwi</td>\n",
       "      <td>256 GB</td>\n",
       "      <td>New: A brand-new, unused, unopened, undamaged ...</td>\n",
       "      <td>NaN</td>\n",
       "      <td>256 GB</td>\n",
       "      <td>['4.8', '5.0', '4.9', '4.9']</td>\n",
       "      <td>['This computer is amazing. Fast, has all the ...</td>\n",
       "    </tr>\n",
       "    <tr>\n",
       "      <th>4</th>\n",
       "      <td>4</td>\n",
       "      <td>https://www.ebay.com/itm/203832591099?itmmeta=...</td>\n",
       "      <td>HP EliteBook x360 1040 G6 i7 8665U 1.90GHz 16G...</td>\n",
       "      <td>AU $439.00</td>\n",
       "      <td>16 GB</td>\n",
       "      <td>HP</td>\n",
       "      <td>NaN</td>\n",
       "      <td>Very Good - Refurbished: The item shows minima...</td>\n",
       "      <td>NaN</td>\n",
       "      <td>256 GB</td>\n",
       "      <td>['4.8', '4.9', '4.9', '4.9']</td>\n",
       "      <td>['item arrived in fantastic condition (despite...</td>\n",
       "    </tr>\n",
       "  </tbody>\n",
       "</table>\n",
       "</div>"
      ],
      "text/plain": [
       "   Unnamed: 0                                               href  \\\n",
       "0           0  https://www.ebay.com/itm/335204367465?itmmeta=...   \n",
       "1           1  https://www.ebay.com/itm/334703417715?itmmeta=...   \n",
       "2           2  https://www.ebay.com/itm/334846153118?itmmeta=...   \n",
       "3           3  https://www.ebay.com/itm/166294430110?itmmeta=...   \n",
       "4           4  https://www.ebay.com/itm/203832591099?itmmeta=...   \n",
       "\n",
       "                                               Title       Price    RAM  \\\n",
       "0  Dell Latitude Light Gaming Laptop PC Intel Cor...  US $618.00    NaN   \n",
       "1  Dell Latitude 15.6\" Laptop Intel Core i5 64GB ...  US $496.00    NaN   \n",
       "2  Dell Latitude 14\" Gaming Laptop PC Intel Core ...  US $667.00    NaN   \n",
       "3  CHUWI 14.1in Lapbook Pro Intel N4100 Laptop Co...  US $152.99   8 GB   \n",
       "4  HP EliteBook x360 1040 G6 i7 8665U 1.90GHz 16G...  AU $439.00  16 GB   \n",
       "\n",
       "   Brand     Hdd                                          Condition  \\\n",
       "0   Dell    2 TB                            Very Good - Refurbished   \n",
       "1   Dell    2 TB                            Very Good - Refurbished   \n",
       "2   Dell    2 TB                            Very Good - Refurbished   \n",
       "3  Chuwi  256 GB  New: A brand-new, unused, unopened, undamaged ...   \n",
       "4     HP     NaN  Very Good - Refurbished: The item shows minima...   \n",
       "\n",
       "                                        Seller notes     SSD  \\\n",
       "0  “AAA PCs is a Microsoft Authorized Refurbisher...     NaN   \n",
       "1  “AAA PCs is a Microsoft Authorized Refurbisher...     NaN   \n",
       "2  “AAA PCs is a Microsoft Authorized Refurbisher...     NaN   \n",
       "3                                                NaN  256 GB   \n",
       "4                                                NaN  256 GB   \n",
       "\n",
       "                         Rating  \\\n",
       "0  ['4.9', '5.0', '4.9', '5.0']   \n",
       "1  ['4.9', '5.0', '4.9', '5.0']   \n",
       "2  ['4.9', '5.0', '4.9', '5.0']   \n",
       "3  ['4.8', '5.0', '4.9', '4.9']   \n",
       "4  ['4.8', '4.9', '4.9', '4.9']   \n",
       "\n",
       "                                             Reviews  \n",
       "0  ['Works fine, and very clean. Very fast delive...  \n",
       "1  ['Dell Latitude 15.6\" Laptop Intel Core i5 64G...  \n",
       "2  ['Laptop came in excellent condition, it was c...  \n",
       "3  ['This computer is amazing. Fast, has all the ...  \n",
       "4  ['item arrived in fantastic condition (despite...  "
      ]
     },
     "execution_count": 19,
     "metadata": {},
     "output_type": "execute_result"
    }
   ],
   "source": [
    "data2.head()"
   ]
  },
  {
   "cell_type": "code",
   "execution_count": 20,
   "id": "1c9bc1b1",
   "metadata": {},
   "outputs": [
    {
     "data": {
      "text/plain": [
       "Unnamed: 0         0\n",
       "href               0\n",
       "Title              0\n",
       "Price              0\n",
       "RAM             5982\n",
       "Brand              4\n",
       "Hdd             9045\n",
       "Condition       2359\n",
       "Seller notes    7683\n",
       "SSD             6884\n",
       "Rating             0\n",
       "Reviews            0\n",
       "dtype: int64"
      ]
     },
     "execution_count": 20,
     "metadata": {},
     "output_type": "execute_result"
    }
   ],
   "source": [
    "dataset1.isnull().sum()"
   ]
  },
  {
   "cell_type": "code",
   "execution_count": 22,
   "id": "50cb7f1b",
   "metadata": {},
   "outputs": [
    {
     "data": {
      "text/plain": [
       "RAM\n",
       "NaN                    5982\n",
       "8 GB                   4272\n",
       "16 GB                  3123\n",
       "4 GB                   1884\n",
       "32 GB                   604\n",
       "                       ... \n",
       "See Pics                  1\n",
       "4GB/8GB                   1\n",
       "Up to 32 GB               1\n",
       "64GB (DDR4-2666MHz)       1\n",
       "1gb                       1\n",
       "Name: count, Length: 170, dtype: int64"
      ]
     },
     "execution_count": 22,
     "metadata": {},
     "output_type": "execute_result"
    }
   ],
   "source": [
    "dataset1['RAM'].value_counts(dropna=False)"
   ]
  },
  {
   "cell_type": "code",
   "execution_count": 23,
   "id": "580d0abe",
   "metadata": {},
   "outputs": [
    {
     "data": {
      "text/plain": [
       "Hdd\n",
       "NaN           9045\n",
       "256 GB        1719\n",
       "512 GB        1220\n",
       "1 TB           808\n",
       "500 GB         806\n",
       "              ... \n",
       "30 GB            1\n",
       "1.0TB SSD        1\n",
       "64gb             1\n",
       "120 GB SSD       1\n",
       "225              1\n",
       "Name: count, Length: 306, dtype: int64"
      ]
     },
     "execution_count": 23,
     "metadata": {},
     "output_type": "execute_result"
    }
   ],
   "source": [
    "dataset1['Hdd'].value_counts(dropna=False)"
   ]
  },
  {
   "cell_type": "code",
   "execution_count": 28,
   "id": "552d22fc",
   "metadata": {},
   "outputs": [
    {
     "data": {
      "text/plain": [
       "Condition\n",
       "Used                                                                                                                                     7256\n",
       "Used: An item that has been used previously. The item may have some signs of cosmetic wear, but is ... Read more\\nabout the condition    3563\n",
       "For parts or not working                                                                                                                  875\n",
       "For parts or not working: An item that does not function as intended and is not fully operational. ... Read more\\nabout the condition     732\n",
       "New: A brand-new, unused, unopened, undamaged item in its original packaging (where packaging is ... Read more\\nabout the condition       696\n",
       "Very Good - Refurbished                                                                                                                   637\n",
       "Good - Refurbished                                                                                                                        552\n",
       "Excellent - Refurbished                                                                                                                   332\n",
       "Open box                                                                                                                                  273\n",
       "Open box: An item in excellent, new condition with no wear. The item may be missing the original ... Read more\\nabout the condition       137\n",
       "Very Good - Refurbished: The item shows minimal wear and is backed by a one year warranty. It is ... Read more\\nabout the condition        74\n",
       "Excellent - Refurbished: The item is in like-new condition, backed by a one year warranty. It has ... Read more\\nabout the condition       59\n",
       "Certified - Refurbished                                                                                                                    59\n",
       "Good - Refurbished: The item shows moderate wear and is backed by a one year warranty. It is fully ... Read more\\nabout the condition      41\n",
       "Certified - Refurbished: The item is in pristine, like-new condition. It has been professionally ... Read more\\nabout the condition        22\n",
       "New other (see details)                                                                                                                     1\n",
       "Name: count, dtype: int64"
      ]
     },
     "execution_count": 28,
     "metadata": {},
     "output_type": "execute_result"
    }
   ],
   "source": [
    "dataset1['Condition'].value_counts()"
   ]
  },
  {
   "cell_type": "code",
   "execution_count": 29,
   "id": "bb69504d",
   "metadata": {},
   "outputs": [
    {
     "data": {
      "text/plain": [
       "0       Apple Macbook Pro 13.3” 2.5GHz intel Core i5 1...\n",
       "1       Apple MacBook Pro 15\" A1286 2.3GHz Core i7 16G...\n",
       "2       Apple Macbook Air 13 (2015) | i5 8GB + 512GB S...\n",
       "3       SONOMA MacBook Pro 15 RETINA / 4.0GHz QUAD COR...\n",
       "4       Apple MacBook Pro 13\" (128GB SSD, Intel Core i...\n",
       "                              ...                        \n",
       "2223    MacBook Pro 13\" Silver 2017 3.1 GHz i5 7th Gen...\n",
       "2224    OS SONOMA Apple MacBook Air 13 TOUCH ID Retina...\n",
       "2225    Apple MacBook Pro Touch Bar 2018 15\" Laptop 6-...\n",
       "2226    13” Apple MacBook A1181 Laptop Intel Core 2 Du...\n",
       "2227    MacBook Pro 15\" Touch Bar 2017 3.1GHz i7 16GB ...\n",
       "Name: Title, Length: 17668, dtype: object"
      ]
     },
     "execution_count": 29,
     "metadata": {},
     "output_type": "execute_result"
    }
   ],
   "source": [
    "dataset1['Title']"
   ]
  },
  {
   "cell_type": "code",
   "execution_count": 30,
   "id": "12e311ea",
   "metadata": {},
   "outputs": [
    {
     "data": {
      "text/plain": [
       "0    Apple Macbook Pro 13.3” 2.5GHz intel Core i5 1...\n",
       "1    Apple MacBook Pro 15\" A1286 2.3GHz Core i7 16G...\n",
       "2    Apple Macbook Air 13 (2015) | i5 8GB + 512GB S...\n",
       "3    SONOMA MacBook Pro 15 RETINA / 4.0GHz QUAD COR...\n",
       "4    Apple MacBook Pro 13\" (128GB SSD, Intel Core i...\n",
       "Name: Title, dtype: object"
      ]
     },
     "execution_count": 30,
     "metadata": {},
     "output_type": "execute_result"
    }
   ],
   "source": [
    "dataset1['Title'][:5]"
   ]
  },
  {
   "cell_type": "code",
   "execution_count": 32,
   "id": "976cd3d8",
   "metadata": {},
   "outputs": [
    {
     "name": "stdout",
     "output_type": "stream",
     "text": [
      "Apple Macbook Pro 13.3” 2.5GHz intel Core i5 16GB RAM 1TB HDD Turbo🔥\n",
      "Apple MacBook Pro 15\" A1286 2.3GHz Core i7 16GB RAM 240GB SSD Mid 2012 Catalina\n",
      "Apple Macbook Air 13 (2015) | i5 8GB + 512GB SSD | Ultra Light | MacOS+Warranty\n",
      "SONOMA MacBook Pro 15 RETINA / 4.0GHz QUAD CORE i7 TURBO / 16GB / 2TB SSD / R9\n",
      "Apple MacBook Pro 13\" (128GB SSD, Intel Core i5-5257U, 2.70GHz, 8GB RAM) Laptop - Silver (MF839LL/A)\n",
      "Apple MacBook Air 13”2017 - i7-5650U - 8GB Ram - 128GB SSD\n",
      "MacBook Pro 15.4in 2015 A1398 256GB 16BG Ram Silver **Scratches and Wear**F0G8WN\n",
      "Apple MacBook Air 13\" (128GB SSD, Intel Core i5 5th Gen., 1.6 GHz, 4GB) Laptop - Silver - MJVE2LL/A (2015)\n",
      "Apple MacBook Pro 13\" Quad Core i7 2.7GHz/16GB/512GB Touch Bar 2018 broken/parts\n",
      "MacBook Pro 15in 2015 A1398 256GB 16BG Ram Silver **Scratches and Wear** 3NG8W\n"
     ]
    }
   ],
   "source": [
    "for i in dataset1['Title'][:10]:\n",
    "    print(i)"
   ]
  },
  {
   "cell_type": "code",
   "execution_count": 41,
   "id": "f9cb70a7",
   "metadata": {},
   "outputs": [
    {
     "data": {
      "text/plain": [
       "Unnamed: 0         0\n",
       "href               0\n",
       "Title              0\n",
       "Price              0\n",
       "RAM             2506\n",
       "Brand              0\n",
       "Hdd             3208\n",
       "Condition       1009\n",
       "Seller notes    2296\n",
       "SSD             1377\n",
       "Rating             0\n",
       "Reviews            0\n",
       "dtype: int64"
      ]
     },
     "execution_count": 41,
     "metadata": {},
     "output_type": "execute_result"
    }
   ],
   "source": [
    "data1.isnull().sum()"
   ]
  },
  {
   "cell_type": "code",
   "execution_count": 40,
   "id": "0270ecc7",
   "metadata": {},
   "outputs": [],
   "source": [
    "import re\n",
    "ssd_pattern = r'(\\d+GB\\sSSD)'\n",
    "\n",
    "def extract_ssd(title):\n",
    "    ssd_match = re.search(ssd_pattern, title)\n",
    "    if ssd_match:\n",
    "        return ssd_match.group()\n",
    "    else:\n",
    "        return None\n",
    "\n",
    "\n",
    "missing_ssd_indices = data1[data1['SSD'].isnull()].index\n",
    "data1.loc[missing_ssd_indices, 'SSD'] = data1.loc[missing_ssd_indices, 'Title'].apply(extract_ssd)\n"
   ]
  },
  {
   "cell_type": "code",
   "execution_count": 42,
   "id": "5aabdde9",
   "metadata": {},
   "outputs": [],
   "source": [
    "dataset1.to_csv('finalwebscraping.csv')"
   ]
  },
  {
   "cell_type": "code",
   "execution_count": null,
   "id": "6322e380",
   "metadata": {},
   "outputs": [],
   "source": []
  }
 ],
 "metadata": {
  "kernelspec": {
   "display_name": "Python 3 (ipykernel)",
   "language": "python",
   "name": "python3"
  },
  "language_info": {
   "codemirror_mode": {
    "name": "ipython",
    "version": 3
   },
   "file_extension": ".py",
   "mimetype": "text/x-python",
   "name": "python",
   "nbconvert_exporter": "python",
   "pygments_lexer": "ipython3",
   "version": "3.8.18"
  }
 },
 "nbformat": 4,
 "nbformat_minor": 5
}
