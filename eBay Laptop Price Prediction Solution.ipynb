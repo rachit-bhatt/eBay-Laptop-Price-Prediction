{
 "cells": [
  {
   "cell_type": "markdown",
   "metadata": {},
   "source": [
    "# Loading Dependencies"
   ]
  },
  {
   "cell_type": "code",
   "execution_count": 15,
   "metadata": {},
   "outputs": [],
   "source": [
    "# Data Manipulation.\n",
    "from pandas import read_csv, Series\n",
    "\n",
    "# Data Cleaning.\n",
    "from re import findall, search"
   ]
  },
  {
   "cell_type": "markdown",
   "metadata": {},
   "source": [
    "# Static Configurations - Global Variables"
   ]
  },
  {
   "cell_type": "code",
   "execution_count": 24,
   "metadata": {},
   "outputs": [],
   "source": [
    "#region Data Cleaning\n",
    "\n",
    "# Price -> String to Float.\n",
    "PATTERN_PRICE = r'\\d{1,3}(?:,\\d{3})*\\.\\d+|\\d+\\.\\d+'\n",
    "\n",
    "# RAM -> String to Integer.\n",
    "PATTERN_RAM = r'(\\d+)\\s*(TB|GB)'\n",
    "\n",
    "#endregion"
   ]
  },
  {
   "cell_type": "markdown",
   "metadata": {},
   "source": [
    "# Data Exploration"
   ]
  },
  {
   "cell_type": "code",
   "execution_count": 25,
   "metadata": {},
   "outputs": [],
   "source": [
    "# Fetching the data scrapped.\n",
    "dataset = read_csv('eBay Laptop Description.csv')"
   ]
  },
  {
   "cell_type": "code",
   "execution_count": 26,
   "metadata": {},
   "outputs": [
    {
     "data": {
      "text/html": [
       "<div>\n",
       "<style scoped>\n",
       "    .dataframe tbody tr th:only-of-type {\n",
       "        vertical-align: middle;\n",
       "    }\n",
       "\n",
       "    .dataframe tbody tr th {\n",
       "        vertical-align: top;\n",
       "    }\n",
       "\n",
       "    .dataframe thead th {\n",
       "        text-align: right;\n",
       "    }\n",
       "</style>\n",
       "<table border=\"1\" class=\"dataframe\">\n",
       "  <thead>\n",
       "    <tr style=\"text-align: right;\">\n",
       "      <th></th>\n",
       "      <th>Unnamed: 0</th>\n",
       "      <th>href</th>\n",
       "      <th>Title</th>\n",
       "      <th>Price</th>\n",
       "      <th>RAM</th>\n",
       "      <th>Brand</th>\n",
       "      <th>Hdd</th>\n",
       "      <th>Condition</th>\n",
       "      <th>Seller notes</th>\n",
       "      <th>SSD</th>\n",
       "      <th>Rating</th>\n",
       "      <th>Reviews</th>\n",
       "    </tr>\n",
       "  </thead>\n",
       "  <tbody>\n",
       "    <tr>\n",
       "      <th>0</th>\n",
       "      <td>0</td>\n",
       "      <td>https://www.ebay.com/itm/166611579675?epid=132...</td>\n",
       "      <td>Apple Macbook Pro 13.3” 2.5GHz intel Core i5 1...</td>\n",
       "      <td>US $249.00</td>\n",
       "      <td>16 GB</td>\n",
       "      <td>Apple</td>\n",
       "      <td>1 TB</td>\n",
       "      <td>Used: An item that has been used previously. T...</td>\n",
       "      <td>NaN</td>\n",
       "      <td>1 TB</td>\n",
       "      <td>['4.8', '5.0', '5.0', '5.0']</td>\n",
       "      <td>['I received the MacBook Pro and it was almost...</td>\n",
       "    </tr>\n",
       "    <tr>\n",
       "      <th>1</th>\n",
       "      <td>1</td>\n",
       "      <td>https://www.ebay.com/itm/285754711451?itmmeta=...</td>\n",
       "      <td>Apple MacBook Pro 15\" A1286 2.3GHz Core i7 16G...</td>\n",
       "      <td>US $219.00</td>\n",
       "      <td>16 GB</td>\n",
       "      <td>Apple</td>\n",
       "      <td>256 GB</td>\n",
       "      <td>Used: An item that has been used previously. T...</td>\n",
       "      <td>NaN</td>\n",
       "      <td>240GB</td>\n",
       "      <td>['4.9', '5.0', '5.0', '5.0']</td>\n",
       "      <td>['Muy buena computadora. En excelentes condici...</td>\n",
       "    </tr>\n",
       "    <tr>\n",
       "      <th>2</th>\n",
       "      <td>2</td>\n",
       "      <td>https://www.ebay.com/itm/334577965892?itmmeta=...</td>\n",
       "      <td>Apple Macbook Air 13 (2015) | i5 8GB + 512GB S...</td>\n",
       "      <td>US $246.05/ea</td>\n",
       "      <td>8 GB</td>\n",
       "      <td>Apple</td>\n",
       "      <td>256 GB</td>\n",
       "      <td>Used</td>\n",
       "      <td>“2 YEAR WARRANTY INCLUDED!!! LAPTOP ARE FULLY ...</td>\n",
       "      <td>128-512 GB</td>\n",
       "      <td>['4.8', '5.0', '4.9', '5.0']</td>\n",
       "      <td>['Opened it as soooon as the mail man brought ...</td>\n",
       "    </tr>\n",
       "    <tr>\n",
       "      <th>3</th>\n",
       "      <td>3</td>\n",
       "      <td>https://www.ebay.com/itm/235462992167?itmmeta=...</td>\n",
       "      <td>SONOMA MacBook Pro 15 RETINA / 4.0GHz QUAD COR...</td>\n",
       "      <td>US $665.00/ea</td>\n",
       "      <td>8 GB</td>\n",
       "      <td>Apple</td>\n",
       "      <td>2 TB</td>\n",
       "      <td>Used</td>\n",
       "      <td>“Fully tested and verified! Good condition ove...</td>\n",
       "      <td>2 TB</td>\n",
       "      <td>['4.9', '5.0', '5.0', '5.0']</td>\n",
       "      <td>['Everything as promised. Fast shipping. Using...</td>\n",
       "    </tr>\n",
       "    <tr>\n",
       "      <th>4</th>\n",
       "      <td>4</td>\n",
       "      <td>https://www.ebay.com/p/20029930090?iid=2260712...</td>\n",
       "      <td>Apple MacBook Pro 13\" (128GB SSD, Intel Core i...</td>\n",
       "      <td>US $36.00</td>\n",
       "      <td>8GB RAM</td>\n",
       "      <td>Apple</td>\n",
       "      <td>256 GB</td>\n",
       "      <td>NaN</td>\n",
       "      <td>NaN</td>\n",
       "      <td>128GB SSD</td>\n",
       "      <td>[]</td>\n",
       "      <td>[]</td>\n",
       "    </tr>\n",
       "    <tr>\n",
       "      <th>...</th>\n",
       "      <td>...</td>\n",
       "      <td>...</td>\n",
       "      <td>...</td>\n",
       "      <td>...</td>\n",
       "      <td>...</td>\n",
       "      <td>...</td>\n",
       "      <td>...</td>\n",
       "      <td>...</td>\n",
       "      <td>...</td>\n",
       "      <td>...</td>\n",
       "      <td>...</td>\n",
       "      <td>...</td>\n",
       "    </tr>\n",
       "    <tr>\n",
       "      <th>19453</th>\n",
       "      <td>19453</td>\n",
       "      <td>https://www.ebay.com/itm/285812494815?itmmeta=...</td>\n",
       "      <td>iPad air 4th generation 64gb wifi Sky Blue</td>\n",
       "      <td>US $270.00</td>\n",
       "      <td>64 GB</td>\n",
       "      <td>Apple</td>\n",
       "      <td>64 GB</td>\n",
       "      <td>Used: An item that has been used previously. T...</td>\n",
       "      <td>NaN</td>\n",
       "      <td>256 GB</td>\n",
       "      <td>[]</td>\n",
       "      <td>[\"Arrived on time and in good condition, and w...</td>\n",
       "    </tr>\n",
       "    <tr>\n",
       "      <th>19454</th>\n",
       "      <td>19454</td>\n",
       "      <td>https://www.ebay.com/itm/335323518419?itmmeta=...</td>\n",
       "      <td>APPLE MACBOOK AIR A1466 I5-3427U @ 1.8GHz 4GB ...</td>\n",
       "      <td>US $34.99</td>\n",
       "      <td>4 GB</td>\n",
       "      <td>Apple</td>\n",
       "      <td>256 GB</td>\n",
       "      <td>For parts or not working</td>\n",
       "      <td>“Please see the pictures of its cosmetic condi...</td>\n",
       "      <td>256 GB</td>\n",
       "      <td>['4.8', '4.7', '5.0', '5.0']</td>\n",
       "      <td>['Dell 3590 laptop received as described. Comp...</td>\n",
       "    </tr>\n",
       "    <tr>\n",
       "      <th>19455</th>\n",
       "      <td>19455</td>\n",
       "      <td>https://www.ebay.com/itm/305231918484?itmmeta=...</td>\n",
       "      <td>Apple iBook G3/366 M6411 | Apple Mac OS 9.0.4 ...</td>\n",
       "      <td>US $399.00</td>\n",
       "      <td>128 MB</td>\n",
       "      <td>Apple</td>\n",
       "      <td>10 GB</td>\n",
       "      <td>Used</td>\n",
       "      <td>“Tested to power on. Battery charges, but no g...</td>\n",
       "      <td>256 GB</td>\n",
       "      <td>['5.0', '4.9', '5.0', '5.0']</td>\n",
       "      <td>['Fast shipping, great communication, and exce...</td>\n",
       "    </tr>\n",
       "    <tr>\n",
       "      <th>19456</th>\n",
       "      <td>19456</td>\n",
       "      <td>https://www.ebay.com/itm/134788641380?itmmeta=...</td>\n",
       "      <td>Apple 2023 MacBook Pro 14 inch M3 chip 512GB S...</td>\n",
       "      <td>C $2,969.99</td>\n",
       "      <td>8 GB</td>\n",
       "      <td>Apple</td>\n",
       "      <td>512 GB</td>\n",
       "      <td>New: A brand-new, unused, unopened, undamaged ...</td>\n",
       "      <td>NaN</td>\n",
       "      <td>512 GB</td>\n",
       "      <td>['4.8', '4.8', '4.9', '4.9']</td>\n",
       "      <td>['Got a used RTX 3070, item was a little dirty...</td>\n",
       "    </tr>\n",
       "    <tr>\n",
       "      <th>19457</th>\n",
       "      <td>19457</td>\n",
       "      <td>https://www.ebay.com/itm/295724310976?itmmeta=...</td>\n",
       "      <td>Apple Macbook Pro MID2009 A1286 Intel 2DUO 4GB...</td>\n",
       "      <td>C $429.24</td>\n",
       "      <td>NaN</td>\n",
       "      <td>- Sans marque/Générique -</td>\n",
       "      <td>NaN</td>\n",
       "      <td>Used: An item that has been used previously. T...</td>\n",
       "      <td>NaN</td>\n",
       "      <td>240GB SSD</td>\n",
       "      <td>['4.8', '5.0', '4.9', '5.0']</td>\n",
       "      <td>['Item as described, will packed, prompt deliv...</td>\n",
       "    </tr>\n",
       "  </tbody>\n",
       "</table>\n",
       "<p>19458 rows × 12 columns</p>\n",
       "</div>"
      ],
      "text/plain": [
       "       Unnamed: 0  ...                                            Reviews\n",
       "0               0  ...  ['I received the MacBook Pro and it was almost...\n",
       "1               1  ...  ['Muy buena computadora. En excelentes condici...\n",
       "2               2  ...  ['Opened it as soooon as the mail man brought ...\n",
       "3               3  ...  ['Everything as promised. Fast shipping. Using...\n",
       "4               4  ...                                                 []\n",
       "...           ...  ...                                                ...\n",
       "19453       19453  ...  [\"Arrived on time and in good condition, and w...\n",
       "19454       19454  ...  ['Dell 3590 laptop received as described. Comp...\n",
       "19455       19455  ...  ['Fast shipping, great communication, and exce...\n",
       "19456       19456  ...  ['Got a used RTX 3070, item was a little dirty...\n",
       "19457       19457  ...  ['Item as described, will packed, prompt deliv...\n",
       "\n",
       "[19458 rows x 12 columns]"
      ]
     },
     "execution_count": 26,
     "metadata": {},
     "output_type": "execute_result"
    }
   ],
   "source": [
    "# Taking a first look on the data.\n",
    "dataset"
   ]
  },
  {
   "cell_type": "markdown",
   "metadata": {},
   "source": [
    "<font color = '#FFA500'><h3>Observations:</h3></font>\n",
    "- First two fields are just some form of ID and can be removed.\n",
    "- The `href` link might be useful for recommending a set of laptops in the future work; but for now, dropping it would be a better choice.\n",
    "- Can extract missing data of a row using `Title` field.\n",
    "- The `Price` has to be processed to convert it from string to actual floating figure.\n",
    "- The `Rating` determines the seller reviews regarding product, which might be helpful to determine public views towards laptop.\n",
    "- Need to clean `Price`, `RAM`, and `SSD` for better understanding of data by converting them from object to numeric form."
   ]
  },
  {
   "cell_type": "markdown",
   "metadata": {},
   "source": [
    "# Data Cleaning"
   ]
  },
  {
   "cell_type": "markdown",
   "metadata": {},
   "source": [
    "## Missing Data Identification"
   ]
  },
  {
   "cell_type": "code",
   "execution_count": 27,
   "metadata": {},
   "outputs": [
    {
     "data": {
      "text/plain": [
       "Unnamed: 0         0\n",
       "href               0\n",
       "Title              0\n",
       "Price              0\n",
       "RAM              133\n",
       "Brand              4\n",
       "Hdd              177\n",
       "Condition       2723\n",
       "Seller notes    8597\n",
       "SSD              182\n",
       "Rating             0\n",
       "Reviews            0\n",
       "dtype: int64"
      ]
     },
     "execution_count": 27,
     "metadata": {},
     "output_type": "execute_result"
    }
   ],
   "source": [
    "# Finding the number of missing values in the dataset.\n",
    "dataset.isna().sum()"
   ]
  },
  {
   "cell_type": "code",
   "execution_count": 28,
   "metadata": {},
   "outputs": [],
   "source": [
    "class DataCleaning:\n",
    "\n",
    "    def __init__(self, pattern : str) -> None:\n",
    "\n",
    "        self.pattern = pattern\n",
    "    \n",
    "    def clean_data_re(self, string : str) -> float | None:\n",
    "        \n",
    "        # Preventing from missing values.\n",
    "        try:\n",
    "\n",
    "            # Searching the pattern from the given string.\n",
    "            result = search(pattern = self.pattern, string = str(object = string))\n",
    "            \n",
    "            # If the pattern is found, send it.\n",
    "            if result:\n",
    "                return result.group()\n",
    "            \n",
    "        except:\n",
    "            pass\n",
    "        \n",
    "        return None\n",
    "    \n",
    "    def set_pattern(self, pattern : str) -> None:\n",
    "        \n",
    "        self.__init__(pattern = pattern)"
   ]
  },
  {
   "cell_type": "markdown",
   "metadata": {},
   "source": [
    "## Price -> String to Float."
   ]
  },
  {
   "cell_type": "code",
   "execution_count": 29,
   "metadata": {},
   "outputs": [
    {
     "data": {
      "text/plain": [
       "0          249.00\n",
       "1          219.00\n",
       "2          246.05\n",
       "3          665.00\n",
       "4           36.00\n",
       "           ...   \n",
       "19453      270.00\n",
       "19454       34.99\n",
       "19455      399.00\n",
       "19456    2,969.99\n",
       "19457      429.24\n",
       "Name: Price, Length: 19458, dtype: object"
      ]
     },
     "execution_count": 29,
     "metadata": {},
     "output_type": "execute_result"
    }
   ],
   "source": [
    "data_cleaning = DataCleaning(pattern = PATTERN_PRICE)\n",
    "dataset.Price.apply(data_cleaning.clean_data_re)"
   ]
  },
  {
   "cell_type": "markdown",
   "metadata": {},
   "source": [
    "## RAM -> String to Category."
   ]
  },
  {
   "cell_type": "code",
   "execution_count": 33,
   "metadata": {},
   "outputs": [
    {
     "data": {
      "text/plain": [
       "Series([], Name: RAM, dtype: int64)"
      ]
     },
     "execution_count": 33,
     "metadata": {},
     "output_type": "execute_result"
    }
   ],
   "source": [
    "# Changing the pattern for RAM.\n",
    "data_cleaning.set_pattern(pattern = PATTERN_RAM)\n",
    "\n",
    "# Cleaning the data.\n",
    "data = dataset.RAM.apply(data_cleaning.clean_data_re)\n",
    "\n",
    "# Validating the results stored.\n",
    "data.value_counts()"
   ]
  },
  {
   "cell_type": "markdown",
   "metadata": {},
   "source": [
    "Taking \"16\" from \"16 GB\"."
   ]
  },
  {
   "cell_type": "code",
   "execution_count": 34,
   "metadata": {},
   "outputs": [
    {
     "data": {
      "text/plain": [
       "Series([], Name: RAM, dtype: int64)"
      ]
     },
     "execution_count": 34,
     "metadata": {},
     "output_type": "execute_result"
    }
   ],
   "source": [
    "# Considering only unit value of the\n",
    "dataset.RAM = Series(map(lambda d : findall(r'\\d+', d)[0],\n",
    "                         filter(lambda d : d is not None, data)))\n",
    "\n",
    "# Validating the results stored.\n",
    "dataset.RAM.value_counts()"
   ]
  },
  {
   "cell_type": "markdown",
   "metadata": {},
   "source": [
    "## SSD -> String to Category."
   ]
  },
  {
   "cell_type": "code",
   "execution_count": null,
   "metadata": {},
   "outputs": [],
   "source": []
  }
 ],
 "metadata": {
  "kernelspec": {
   "display_name": "Python 3",
   "language": "python",
   "name": "python3"
  },
  "language_info": {
   "codemirror_mode": {
    "name": "ipython",
    "version": 3
   },
   "file_extension": ".py",
   "mimetype": "text/x-python",
   "name": "python",
   "nbconvert_exporter": "python",
   "pygments_lexer": "ipython3",
   "version": "3.11.5"
  }
 },
 "nbformat": 4,
 "nbformat_minor": 2
}
